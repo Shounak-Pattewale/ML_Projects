{
  "nbformat": 4,
  "nbformat_minor": 0,
  "metadata": {
    "colab": {
      "name": "ML_IPL_Score_Prediction",
      "provenance": []
    },
    "kernelspec": {
      "name": "python3",
      "display_name": "Python 3"
    }
  },
  "cells": [
    {
      "cell_type": "markdown",
      "metadata": {
        "id": "ZNE3HISrKkz2"
      },
      "source": [
        "#**IPL SCORE PREDICTION**\n",
        "\n",
        "**PROJECT AIM :**\n",
        "PREDICT THE TOTAL SCORE OF AN IPL MATCH DATASET <br>\n",
        "\n",
        "**APPROACH:**\n",
        "\n",
        "1. Handle missing values\n",
        "2. Drop the unnecessary columns\n",
        "3. Convert the categorical string columns to numerical columns, by using dummy encoding\n",
        "4. Perform feature scaling (if necessary).\n",
        "5. Build a model on the “total” column, using a RandomForestRegressor\n",
        "6. Calculate the score\n",
        "7. Predict on a new set of features \n",
        "\n",
        "Dataset used : https://www.kaggle.com/malavikarvikraman/ipl2017"
      ]
    },
    {
      "cell_type": "markdown",
      "metadata": {
        "id": "wUaMFFmcL6oY"
      },
      "source": [
        "# **Importing Libraries**"
      ]
    },
    {
      "cell_type": "code",
      "metadata": {
        "id": "f46p_wdNLH4p"
      },
      "source": [
        "import pandas as pd\n",
        "import numpy as np  "
      ],
      "execution_count": null,
      "outputs": []
    },
    {
      "cell_type": "markdown",
      "metadata": {
        "id": "iXj4R_xvRGQQ"
      },
      "source": [
        "#**Importing dataset**\n",
        "\n"
      ]
    },
    {
      "cell_type": "code",
      "metadata": {
        "id": "oPyy2_ziNAGN"
      },
      "source": [
        "df = pd.read_csv(\"/content/drive/My Drive/Colab Notebooks/ipl2017.csv\")"
      ],
      "execution_count": null,
      "outputs": []
    },
    {
      "cell_type": "markdown",
      "metadata": {
        "id": "HtkFcTfk_8V_"
      },
      "source": [
        "**Checking Data Set**\n"
      ]
    },
    {
      "cell_type": "code",
      "metadata": {
        "id": "RFvY-zYIAEWG",
        "outputId": "6b2ff8a4-d769-420a-d37d-531a597868a1",
        "colab": {
          "base_uri": "https://localhost:8080/",
          "height": 408
        }
      },
      "source": [
        "print(df.info())\n",
        "# print(df.dtypes)"
      ],
      "execution_count": null,
      "outputs": [
        {
          "output_type": "stream",
          "text": [
            "<class 'pandas.core.frame.DataFrame'>\n",
            "RangeIndex: 76014 entries, 0 to 76013\n",
            "Data columns (total 15 columns):\n",
            " #   Column          Non-Null Count  Dtype  \n",
            "---  ------          --------------  -----  \n",
            " 0   mid             76014 non-null  int64  \n",
            " 1   date            76014 non-null  object \n",
            " 2   venue           76014 non-null  object \n",
            " 3   bat_team        76014 non-null  object \n",
            " 4   bowl_team       76014 non-null  object \n",
            " 5   batsman         76014 non-null  object \n",
            " 6   bowler          76014 non-null  object \n",
            " 7   runs            76014 non-null  int64  \n",
            " 8   wickets         76014 non-null  int64  \n",
            " 9   overs           76014 non-null  float64\n",
            " 10  runs_last_5     76014 non-null  int64  \n",
            " 11  wickets_last_5  76014 non-null  int64  \n",
            " 12  striker         76014 non-null  int64  \n",
            " 13  non-striker     76014 non-null  int64  \n",
            " 14  total           76014 non-null  int64  \n",
            "dtypes: float64(1), int64(8), object(6)\n",
            "memory usage: 8.7+ MB\n",
            "None\n"
          ],
          "name": "stdout"
        }
      ]
    },
    {
      "cell_type": "code",
      "metadata": {
        "id": "rh2OtA7QAQ3H",
        "outputId": "188455d9-7106-4173-97a2-b2b2307be69f",
        "colab": {
          "base_uri": "https://localhost:8080/",
          "height": 34
        }
      },
      "source": [
        "print(df.shape)"
      ],
      "execution_count": null,
      "outputs": [
        {
          "output_type": "stream",
          "text": [
            "(76014, 15)\n"
          ],
          "name": "stdout"
        }
      ]
    },
    {
      "cell_type": "code",
      "metadata": {
        "id": "iwBWPi4KARUP",
        "outputId": "b717c0e2-8a7b-4e59-e306-8b50bc8cce96",
        "colab": {
          "base_uri": "https://localhost:8080/",
          "height": 153
        }
      },
      "source": [
        "print(df.head())"
      ],
      "execution_count": null,
      "outputs": [
        {
          "output_type": "stream",
          "text": [
            "   mid        date                  venue  ... striker non-striker total\n",
            "0    1  2008-04-18  M Chinnaswamy Stadium  ...       0           0   222\n",
            "1    1  2008-04-18  M Chinnaswamy Stadium  ...       0           0   222\n",
            "2    1  2008-04-18  M Chinnaswamy Stadium  ...       0           0   222\n",
            "3    1  2008-04-18  M Chinnaswamy Stadium  ...       0           0   222\n",
            "4    1  2008-04-18  M Chinnaswamy Stadium  ...       0           0   222\n",
            "\n",
            "[5 rows x 15 columns]\n"
          ],
          "name": "stdout"
        }
      ]
    },
    {
      "cell_type": "markdown",
      "metadata": {
        "id": "1OLuM6MTRfxE"
      },
      "source": [
        "#**Droping unnecessary columns**\n"
      ]
    },
    {
      "cell_type": "code",
      "metadata": {
        "id": "vXwHIx5vNy_A",
        "outputId": "4d94763b-a9bb-41ef-fa1b-3673d3a1704c",
        "colab": {
          "base_uri": "https://localhost:8080/",
          "height": 153
        }
      },
      "source": [
        "df.drop(labels=[\"mid\",'date'],axis=1,inplace=True)\n",
        "print(df.head())"
      ],
      "execution_count": null,
      "outputs": [
        {
          "output_type": "stream",
          "text": [
            "                   venue               bat_team  ... non-striker total\n",
            "0  M Chinnaswamy Stadium  Kolkata Knight Riders  ...           0   222\n",
            "1  M Chinnaswamy Stadium  Kolkata Knight Riders  ...           0   222\n",
            "2  M Chinnaswamy Stadium  Kolkata Knight Riders  ...           0   222\n",
            "3  M Chinnaswamy Stadium  Kolkata Knight Riders  ...           0   222\n",
            "4  M Chinnaswamy Stadium  Kolkata Knight Riders  ...           0   222\n",
            "\n",
            "[5 rows x 13 columns]\n"
          ],
          "name": "stdout"
        }
      ]
    },
    {
      "cell_type": "code",
      "metadata": {
        "id": "IeBleElnvvGs",
        "outputId": "d98afc3b-1434-452d-c4ef-31d9dc8a9a49",
        "colab": {
          "base_uri": "https://localhost:8080/",
          "height": 255
        }
      },
      "source": [
        "print(df.dtypes)"
      ],
      "execution_count": null,
      "outputs": [
        {
          "output_type": "stream",
          "text": [
            "venue              object\n",
            "bat_team           object\n",
            "bowl_team          object\n",
            "batsman            object\n",
            "bowler             object\n",
            "runs                int64\n",
            "wickets             int64\n",
            "overs             float64\n",
            "runs_last_5         int64\n",
            "wickets_last_5      int64\n",
            "striker             int64\n",
            "non-striker         int64\n",
            "total               int64\n",
            "dtype: object\n"
          ],
          "name": "stdout"
        }
      ]
    },
    {
      "cell_type": "markdown",
      "metadata": {
        "id": "tGK0PfdKE8qI"
      },
      "source": [
        "#**Step 1 : Initializing Train-Test variables**\n",
        "X = Features <br>\n",
        "y = Target \n"
      ]
    },
    {
      "cell_type": "code",
      "metadata": {
        "id": "LdKEuvFbFfg2"
      },
      "source": [
        "y = df[\"total\"]\n",
        "X = df.drop('total',axis=1)"
      ],
      "execution_count": null,
      "outputs": []
    },
    {
      "cell_type": "code",
      "metadata": {
        "id": "JFfzr8U5F6mU",
        "outputId": "480b620c-20c9-428c-e61f-5534109adea7",
        "colab": {
          "base_uri": "https://localhost:8080/",
          "height": 255
        }
      },
      "source": [
        "print(y.dtypes)\n",
        "print(X.dtypes)"
      ],
      "execution_count": null,
      "outputs": [
        {
          "output_type": "stream",
          "text": [
            "int64\n",
            "venue              object\n",
            "bat_team           object\n",
            "bowl_team          object\n",
            "batsman            object\n",
            "bowler             object\n",
            "runs                int64\n",
            "wickets             int64\n",
            "overs             float64\n",
            "runs_last_5         int64\n",
            "wickets_last_5      int64\n",
            "striker             int64\n",
            "non-striker         int64\n",
            "dtype: object\n"
          ],
          "name": "stdout"
        }
      ]
    },
    {
      "cell_type": "code",
      "metadata": {
        "id": "R-2ZyHlasjMk",
        "outputId": "4e268b85-53c4-4bd9-c768-8f782c1d9628",
        "colab": {
          "base_uri": "https://localhost:8080/",
          "height": 355
        }
      },
      "source": [
        "X = pd.get_dummies(data = X,columns = ['venue','bat_team','bowl_team','batsman','bowler'],drop_first=True)\n",
        "X.head()\n",
        "# df.dtypes"
      ],
      "execution_count": null,
      "outputs": [
        {
          "output_type": "execute_result",
          "data": {
            "text/html": [
              "<div>\n",
              "<style scoped>\n",
              "    .dataframe tbody tr th:only-of-type {\n",
              "        vertical-align: middle;\n",
              "    }\n",
              "\n",
              "    .dataframe tbody tr th {\n",
              "        vertical-align: top;\n",
              "    }\n",
              "\n",
              "    .dataframe thead th {\n",
              "        text-align: right;\n",
              "    }\n",
              "</style>\n",
              "<table border=\"1\" class=\"dataframe\">\n",
              "  <thead>\n",
              "    <tr style=\"text-align: right;\">\n",
              "      <th></th>\n",
              "      <th>runs</th>\n",
              "      <th>wickets</th>\n",
              "      <th>overs</th>\n",
              "      <th>runs_last_5</th>\n",
              "      <th>wickets_last_5</th>\n",
              "      <th>striker</th>\n",
              "      <th>non-striker</th>\n",
              "      <th>venue_Brabourne Stadium</th>\n",
              "      <th>venue_Buffalo Park</th>\n",
              "      <th>venue_De Beers Diamond Oval</th>\n",
              "      <th>venue_Dr DY Patil Sports Academy</th>\n",
              "      <th>venue_Dr. Y.S. Rajasekhara Reddy ACA-VDCA Cricket Stadium</th>\n",
              "      <th>venue_Dubai International Cricket Stadium</th>\n",
              "      <th>venue_Eden Gardens</th>\n",
              "      <th>venue_Feroz Shah Kotla</th>\n",
              "      <th>venue_Green Park</th>\n",
              "      <th>venue_Himachal Pradesh Cricket Association Stadium</th>\n",
              "      <th>venue_Holkar Cricket Stadium</th>\n",
              "      <th>venue_JSCA International Stadium Complex</th>\n",
              "      <th>venue_Kingsmead</th>\n",
              "      <th>venue_M Chinnaswamy Stadium</th>\n",
              "      <th>venue_MA Chidambaram Stadium, Chepauk</th>\n",
              "      <th>venue_Maharashtra Cricket Association Stadium</th>\n",
              "      <th>venue_Nehru Stadium</th>\n",
              "      <th>venue_New Wanderers Stadium</th>\n",
              "      <th>venue_Newlands</th>\n",
              "      <th>venue_OUTsurance Oval</th>\n",
              "      <th>venue_Punjab Cricket Association IS Bindra Stadium, Mohali</th>\n",
              "      <th>venue_Punjab Cricket Association Stadium, Mohali</th>\n",
              "      <th>venue_Rajiv Gandhi International Stadium, Uppal</th>\n",
              "      <th>venue_Sardar Patel Stadium, Motera</th>\n",
              "      <th>venue_Saurashtra Cricket Association Stadium</th>\n",
              "      <th>venue_Sawai Mansingh Stadium</th>\n",
              "      <th>venue_Shaheed Veer Narayan Singh International Stadium</th>\n",
              "      <th>venue_Sharjah Cricket Stadium</th>\n",
              "      <th>venue_Sheikh Zayed Stadium</th>\n",
              "      <th>venue_St George's Park</th>\n",
              "      <th>venue_Subrata Roy Sahara Stadium</th>\n",
              "      <th>venue_SuperSport Park</th>\n",
              "      <th>venue_Vidarbha Cricket Association Stadium, Jamtha</th>\n",
              "      <th>...</th>\n",
              "      <th>bowler_Shivam Sharma</th>\n",
              "      <th>bowler_Shoaib Ahmed</th>\n",
              "      <th>bowler_Shoaib Malik</th>\n",
              "      <th>bowler_Sohail Tanvir</th>\n",
              "      <th>bowler_Sunny Gupta</th>\n",
              "      <th>bowler_Swapnil Singh</th>\n",
              "      <th>bowler_T Henderson</th>\n",
              "      <th>bowler_T Natarajan</th>\n",
              "      <th>bowler_T Shamsi</th>\n",
              "      <th>bowler_T Thushara</th>\n",
              "      <th>bowler_TA Boult</th>\n",
              "      <th>bowler_TG Southee</th>\n",
              "      <th>bowler_TL Suman</th>\n",
              "      <th>bowler_TM Dilshan</th>\n",
              "      <th>bowler_TM Head</th>\n",
              "      <th>bowler_TP Sudhindra</th>\n",
              "      <th>bowler_TS Mills</th>\n",
              "      <th>bowler_UT Yadav</th>\n",
              "      <th>bowler_Umar Gul</th>\n",
              "      <th>bowler_V Kohli</th>\n",
              "      <th>bowler_V Pratap Singh</th>\n",
              "      <th>bowler_V Sehwag</th>\n",
              "      <th>bowler_V Shankar</th>\n",
              "      <th>bowler_VR Aaron</th>\n",
              "      <th>bowler_VRV Singh</th>\n",
              "      <th>bowler_VS Malik</th>\n",
              "      <th>bowler_VS Yeligati</th>\n",
              "      <th>bowler_VY Mahesh</th>\n",
              "      <th>bowler_WA Mota</th>\n",
              "      <th>bowler_WD Parnell</th>\n",
              "      <th>bowler_WPUJC Vaas</th>\n",
              "      <th>bowler_Washington Sundar</th>\n",
              "      <th>bowler_Y Gnaneswara Rao</th>\n",
              "      <th>bowler_Y Nagar</th>\n",
              "      <th>bowler_Y Venugopal Rao</th>\n",
              "      <th>bowler_YA Abdulla</th>\n",
              "      <th>bowler_YK Pathan</th>\n",
              "      <th>bowler_YS Chahal</th>\n",
              "      <th>bowler_Yuvraj Singh</th>\n",
              "      <th>bowler_Z Khan</th>\n",
              "    </tr>\n",
              "  </thead>\n",
              "  <tbody>\n",
              "    <tr>\n",
              "      <th>0</th>\n",
              "      <td>1</td>\n",
              "      <td>0</td>\n",
              "      <td>0.1</td>\n",
              "      <td>1</td>\n",
              "      <td>0</td>\n",
              "      <td>0</td>\n",
              "      <td>0</td>\n",
              "      <td>0</td>\n",
              "      <td>0</td>\n",
              "      <td>0</td>\n",
              "      <td>0</td>\n",
              "      <td>0</td>\n",
              "      <td>0</td>\n",
              "      <td>0</td>\n",
              "      <td>0</td>\n",
              "      <td>0</td>\n",
              "      <td>0</td>\n",
              "      <td>0</td>\n",
              "      <td>0</td>\n",
              "      <td>0</td>\n",
              "      <td>1</td>\n",
              "      <td>0</td>\n",
              "      <td>0</td>\n",
              "      <td>0</td>\n",
              "      <td>0</td>\n",
              "      <td>0</td>\n",
              "      <td>0</td>\n",
              "      <td>0</td>\n",
              "      <td>0</td>\n",
              "      <td>0</td>\n",
              "      <td>0</td>\n",
              "      <td>0</td>\n",
              "      <td>0</td>\n",
              "      <td>0</td>\n",
              "      <td>0</td>\n",
              "      <td>0</td>\n",
              "      <td>0</td>\n",
              "      <td>0</td>\n",
              "      <td>0</td>\n",
              "      <td>0</td>\n",
              "      <td>...</td>\n",
              "      <td>0</td>\n",
              "      <td>0</td>\n",
              "      <td>0</td>\n",
              "      <td>0</td>\n",
              "      <td>0</td>\n",
              "      <td>0</td>\n",
              "      <td>0</td>\n",
              "      <td>0</td>\n",
              "      <td>0</td>\n",
              "      <td>0</td>\n",
              "      <td>0</td>\n",
              "      <td>0</td>\n",
              "      <td>0</td>\n",
              "      <td>0</td>\n",
              "      <td>0</td>\n",
              "      <td>0</td>\n",
              "      <td>0</td>\n",
              "      <td>0</td>\n",
              "      <td>0</td>\n",
              "      <td>0</td>\n",
              "      <td>0</td>\n",
              "      <td>0</td>\n",
              "      <td>0</td>\n",
              "      <td>0</td>\n",
              "      <td>0</td>\n",
              "      <td>0</td>\n",
              "      <td>0</td>\n",
              "      <td>0</td>\n",
              "      <td>0</td>\n",
              "      <td>0</td>\n",
              "      <td>0</td>\n",
              "      <td>0</td>\n",
              "      <td>0</td>\n",
              "      <td>0</td>\n",
              "      <td>0</td>\n",
              "      <td>0</td>\n",
              "      <td>0</td>\n",
              "      <td>0</td>\n",
              "      <td>0</td>\n",
              "      <td>0</td>\n",
              "    </tr>\n",
              "    <tr>\n",
              "      <th>1</th>\n",
              "      <td>1</td>\n",
              "      <td>0</td>\n",
              "      <td>0.2</td>\n",
              "      <td>1</td>\n",
              "      <td>0</td>\n",
              "      <td>0</td>\n",
              "      <td>0</td>\n",
              "      <td>0</td>\n",
              "      <td>0</td>\n",
              "      <td>0</td>\n",
              "      <td>0</td>\n",
              "      <td>0</td>\n",
              "      <td>0</td>\n",
              "      <td>0</td>\n",
              "      <td>0</td>\n",
              "      <td>0</td>\n",
              "      <td>0</td>\n",
              "      <td>0</td>\n",
              "      <td>0</td>\n",
              "      <td>0</td>\n",
              "      <td>1</td>\n",
              "      <td>0</td>\n",
              "      <td>0</td>\n",
              "      <td>0</td>\n",
              "      <td>0</td>\n",
              "      <td>0</td>\n",
              "      <td>0</td>\n",
              "      <td>0</td>\n",
              "      <td>0</td>\n",
              "      <td>0</td>\n",
              "      <td>0</td>\n",
              "      <td>0</td>\n",
              "      <td>0</td>\n",
              "      <td>0</td>\n",
              "      <td>0</td>\n",
              "      <td>0</td>\n",
              "      <td>0</td>\n",
              "      <td>0</td>\n",
              "      <td>0</td>\n",
              "      <td>0</td>\n",
              "      <td>...</td>\n",
              "      <td>0</td>\n",
              "      <td>0</td>\n",
              "      <td>0</td>\n",
              "      <td>0</td>\n",
              "      <td>0</td>\n",
              "      <td>0</td>\n",
              "      <td>0</td>\n",
              "      <td>0</td>\n",
              "      <td>0</td>\n",
              "      <td>0</td>\n",
              "      <td>0</td>\n",
              "      <td>0</td>\n",
              "      <td>0</td>\n",
              "      <td>0</td>\n",
              "      <td>0</td>\n",
              "      <td>0</td>\n",
              "      <td>0</td>\n",
              "      <td>0</td>\n",
              "      <td>0</td>\n",
              "      <td>0</td>\n",
              "      <td>0</td>\n",
              "      <td>0</td>\n",
              "      <td>0</td>\n",
              "      <td>0</td>\n",
              "      <td>0</td>\n",
              "      <td>0</td>\n",
              "      <td>0</td>\n",
              "      <td>0</td>\n",
              "      <td>0</td>\n",
              "      <td>0</td>\n",
              "      <td>0</td>\n",
              "      <td>0</td>\n",
              "      <td>0</td>\n",
              "      <td>0</td>\n",
              "      <td>0</td>\n",
              "      <td>0</td>\n",
              "      <td>0</td>\n",
              "      <td>0</td>\n",
              "      <td>0</td>\n",
              "      <td>0</td>\n",
              "    </tr>\n",
              "    <tr>\n",
              "      <th>2</th>\n",
              "      <td>2</td>\n",
              "      <td>0</td>\n",
              "      <td>0.2</td>\n",
              "      <td>2</td>\n",
              "      <td>0</td>\n",
              "      <td>0</td>\n",
              "      <td>0</td>\n",
              "      <td>0</td>\n",
              "      <td>0</td>\n",
              "      <td>0</td>\n",
              "      <td>0</td>\n",
              "      <td>0</td>\n",
              "      <td>0</td>\n",
              "      <td>0</td>\n",
              "      <td>0</td>\n",
              "      <td>0</td>\n",
              "      <td>0</td>\n",
              "      <td>0</td>\n",
              "      <td>0</td>\n",
              "      <td>0</td>\n",
              "      <td>1</td>\n",
              "      <td>0</td>\n",
              "      <td>0</td>\n",
              "      <td>0</td>\n",
              "      <td>0</td>\n",
              "      <td>0</td>\n",
              "      <td>0</td>\n",
              "      <td>0</td>\n",
              "      <td>0</td>\n",
              "      <td>0</td>\n",
              "      <td>0</td>\n",
              "      <td>0</td>\n",
              "      <td>0</td>\n",
              "      <td>0</td>\n",
              "      <td>0</td>\n",
              "      <td>0</td>\n",
              "      <td>0</td>\n",
              "      <td>0</td>\n",
              "      <td>0</td>\n",
              "      <td>0</td>\n",
              "      <td>...</td>\n",
              "      <td>0</td>\n",
              "      <td>0</td>\n",
              "      <td>0</td>\n",
              "      <td>0</td>\n",
              "      <td>0</td>\n",
              "      <td>0</td>\n",
              "      <td>0</td>\n",
              "      <td>0</td>\n",
              "      <td>0</td>\n",
              "      <td>0</td>\n",
              "      <td>0</td>\n",
              "      <td>0</td>\n",
              "      <td>0</td>\n",
              "      <td>0</td>\n",
              "      <td>0</td>\n",
              "      <td>0</td>\n",
              "      <td>0</td>\n",
              "      <td>0</td>\n",
              "      <td>0</td>\n",
              "      <td>0</td>\n",
              "      <td>0</td>\n",
              "      <td>0</td>\n",
              "      <td>0</td>\n",
              "      <td>0</td>\n",
              "      <td>0</td>\n",
              "      <td>0</td>\n",
              "      <td>0</td>\n",
              "      <td>0</td>\n",
              "      <td>0</td>\n",
              "      <td>0</td>\n",
              "      <td>0</td>\n",
              "      <td>0</td>\n",
              "      <td>0</td>\n",
              "      <td>0</td>\n",
              "      <td>0</td>\n",
              "      <td>0</td>\n",
              "      <td>0</td>\n",
              "      <td>0</td>\n",
              "      <td>0</td>\n",
              "      <td>0</td>\n",
              "    </tr>\n",
              "    <tr>\n",
              "      <th>3</th>\n",
              "      <td>2</td>\n",
              "      <td>0</td>\n",
              "      <td>0.3</td>\n",
              "      <td>2</td>\n",
              "      <td>0</td>\n",
              "      <td>0</td>\n",
              "      <td>0</td>\n",
              "      <td>0</td>\n",
              "      <td>0</td>\n",
              "      <td>0</td>\n",
              "      <td>0</td>\n",
              "      <td>0</td>\n",
              "      <td>0</td>\n",
              "      <td>0</td>\n",
              "      <td>0</td>\n",
              "      <td>0</td>\n",
              "      <td>0</td>\n",
              "      <td>0</td>\n",
              "      <td>0</td>\n",
              "      <td>0</td>\n",
              "      <td>1</td>\n",
              "      <td>0</td>\n",
              "      <td>0</td>\n",
              "      <td>0</td>\n",
              "      <td>0</td>\n",
              "      <td>0</td>\n",
              "      <td>0</td>\n",
              "      <td>0</td>\n",
              "      <td>0</td>\n",
              "      <td>0</td>\n",
              "      <td>0</td>\n",
              "      <td>0</td>\n",
              "      <td>0</td>\n",
              "      <td>0</td>\n",
              "      <td>0</td>\n",
              "      <td>0</td>\n",
              "      <td>0</td>\n",
              "      <td>0</td>\n",
              "      <td>0</td>\n",
              "      <td>0</td>\n",
              "      <td>...</td>\n",
              "      <td>0</td>\n",
              "      <td>0</td>\n",
              "      <td>0</td>\n",
              "      <td>0</td>\n",
              "      <td>0</td>\n",
              "      <td>0</td>\n",
              "      <td>0</td>\n",
              "      <td>0</td>\n",
              "      <td>0</td>\n",
              "      <td>0</td>\n",
              "      <td>0</td>\n",
              "      <td>0</td>\n",
              "      <td>0</td>\n",
              "      <td>0</td>\n",
              "      <td>0</td>\n",
              "      <td>0</td>\n",
              "      <td>0</td>\n",
              "      <td>0</td>\n",
              "      <td>0</td>\n",
              "      <td>0</td>\n",
              "      <td>0</td>\n",
              "      <td>0</td>\n",
              "      <td>0</td>\n",
              "      <td>0</td>\n",
              "      <td>0</td>\n",
              "      <td>0</td>\n",
              "      <td>0</td>\n",
              "      <td>0</td>\n",
              "      <td>0</td>\n",
              "      <td>0</td>\n",
              "      <td>0</td>\n",
              "      <td>0</td>\n",
              "      <td>0</td>\n",
              "      <td>0</td>\n",
              "      <td>0</td>\n",
              "      <td>0</td>\n",
              "      <td>0</td>\n",
              "      <td>0</td>\n",
              "      <td>0</td>\n",
              "      <td>0</td>\n",
              "    </tr>\n",
              "    <tr>\n",
              "      <th>4</th>\n",
              "      <td>2</td>\n",
              "      <td>0</td>\n",
              "      <td>0.4</td>\n",
              "      <td>2</td>\n",
              "      <td>0</td>\n",
              "      <td>0</td>\n",
              "      <td>0</td>\n",
              "      <td>0</td>\n",
              "      <td>0</td>\n",
              "      <td>0</td>\n",
              "      <td>0</td>\n",
              "      <td>0</td>\n",
              "      <td>0</td>\n",
              "      <td>0</td>\n",
              "      <td>0</td>\n",
              "      <td>0</td>\n",
              "      <td>0</td>\n",
              "      <td>0</td>\n",
              "      <td>0</td>\n",
              "      <td>0</td>\n",
              "      <td>1</td>\n",
              "      <td>0</td>\n",
              "      <td>0</td>\n",
              "      <td>0</td>\n",
              "      <td>0</td>\n",
              "      <td>0</td>\n",
              "      <td>0</td>\n",
              "      <td>0</td>\n",
              "      <td>0</td>\n",
              "      <td>0</td>\n",
              "      <td>0</td>\n",
              "      <td>0</td>\n",
              "      <td>0</td>\n",
              "      <td>0</td>\n",
              "      <td>0</td>\n",
              "      <td>0</td>\n",
              "      <td>0</td>\n",
              "      <td>0</td>\n",
              "      <td>0</td>\n",
              "      <td>0</td>\n",
              "      <td>...</td>\n",
              "      <td>0</td>\n",
              "      <td>0</td>\n",
              "      <td>0</td>\n",
              "      <td>0</td>\n",
              "      <td>0</td>\n",
              "      <td>0</td>\n",
              "      <td>0</td>\n",
              "      <td>0</td>\n",
              "      <td>0</td>\n",
              "      <td>0</td>\n",
              "      <td>0</td>\n",
              "      <td>0</td>\n",
              "      <td>0</td>\n",
              "      <td>0</td>\n",
              "      <td>0</td>\n",
              "      <td>0</td>\n",
              "      <td>0</td>\n",
              "      <td>0</td>\n",
              "      <td>0</td>\n",
              "      <td>0</td>\n",
              "      <td>0</td>\n",
              "      <td>0</td>\n",
              "      <td>0</td>\n",
              "      <td>0</td>\n",
              "      <td>0</td>\n",
              "      <td>0</td>\n",
              "      <td>0</td>\n",
              "      <td>0</td>\n",
              "      <td>0</td>\n",
              "      <td>0</td>\n",
              "      <td>0</td>\n",
              "      <td>0</td>\n",
              "      <td>0</td>\n",
              "      <td>0</td>\n",
              "      <td>0</td>\n",
              "      <td>0</td>\n",
              "      <td>0</td>\n",
              "      <td>0</td>\n",
              "      <td>0</td>\n",
              "      <td>0</td>\n",
              "    </tr>\n",
              "  </tbody>\n",
              "</table>\n",
              "<p>5 rows × 805 columns</p>\n",
              "</div>"
            ],
            "text/plain": [
              "   runs  wickets  overs  ...  bowler_YS Chahal  bowler_Yuvraj Singh  bowler_Z Khan\n",
              "0     1        0    0.1  ...                 0                    0              0\n",
              "1     1        0    0.2  ...                 0                    0              0\n",
              "2     2        0    0.2  ...                 0                    0              0\n",
              "3     2        0    0.3  ...                 0                    0              0\n",
              "4     2        0    0.4  ...                 0                    0              0\n",
              "\n",
              "[5 rows x 805 columns]"
            ]
          },
          "metadata": {
            "tags": []
          },
          "execution_count": 405
        }
      ]
    },
    {
      "cell_type": "markdown",
      "metadata": {
        "id": "f8bojTOuJRkV"
      },
      "source": [
        "* **Features should be of the type : Arrays/DataFrames**"
      ]
    },
    {
      "cell_type": "code",
      "metadata": {
        "id": "FJQPI1Mfrihh",
        "outputId": "7ed8cad3-8622-4cba-e9b6-0ea181b11d06",
        "colab": {
          "base_uri": "https://localhost:8080/",
          "height": 34
        }
      },
      "source": [
        "print(type(X))"
      ],
      "execution_count": null,
      "outputs": [
        {
          "output_type": "stream",
          "text": [
            "<class 'pandas.core.frame.DataFrame'>\n"
          ],
          "name": "stdout"
        }
      ]
    },
    {
      "cell_type": "markdown",
      "metadata": {
        "id": "zkNO4JleJXHj"
      },
      "source": [
        "* **Features should be in the from of rows and columns**"
      ]
    },
    {
      "cell_type": "code",
      "metadata": {
        "id": "WXqymD39IhY3",
        "outputId": "04642e14-e487-4622-83ef-8785b36aa100",
        "colab": {
          "base_uri": "https://localhost:8080/",
          "height": 34
        }
      },
      "source": [
        "print(X.shape)"
      ],
      "execution_count": null,
      "outputs": [
        {
          "output_type": "stream",
          "text": [
            "(76014, 805)\n"
          ],
          "name": "stdout"
        }
      ]
    },
    {
      "cell_type": "markdown",
      "metadata": {
        "id": "svVmI-7GJw4F"
      },
      "source": [
        "#**Step 2 : Splitting into Training and Testing sets**"
      ]
    },
    {
      "cell_type": "code",
      "metadata": {
        "id": "5uogfSgoJg8K"
      },
      "source": [
        "from sklearn.model_selection import train_test_split\n",
        "\n",
        "X_train,X_test,y_train,y_test = train_test_split(X,y,test_size = 0.3,random_state = 38)"
      ],
      "execution_count": null,
      "outputs": []
    },
    {
      "cell_type": "markdown",
      "metadata": {
        "id": "XGW8xiApKuI1"
      },
      "source": [
        "**Feature scaling**\n"
      ]
    },
    {
      "cell_type": "code",
      "metadata": {
        "id": "orvK7t9xKrbA"
      },
      "source": [
        "from sklearn.preprocessing import StandardScaler\n",
        "\n",
        "scaler = StandardScaler()"
      ],
      "execution_count": null,
      "outputs": []
    },
    {
      "cell_type": "markdown",
      "metadata": {
        "id": "ls29eGFVLJvq"
      },
      "source": [
        "*** Note : Fitting is done on Training data, NOT ON Testing data**"
      ]
    },
    {
      "cell_type": "code",
      "metadata": {
        "id": "8QUYB2EJK6kS"
      },
      "source": [
        "X_train = scaler.fit_transform(X_train)\n",
        "X_test = scaler.transform(X_test)"
      ],
      "execution_count": null,
      "outputs": []
    },
    {
      "cell_type": "markdown",
      "metadata": {
        "id": "xdanXutYLnmG"
      },
      "source": [
        "#**Step 3 : Using Regression**\n",
        "* Regression is peformed on Continuous data<br>\n",
        "* Classification is peformed on Discrete data\n"
      ]
    },
    {
      "cell_type": "markdown",
      "metadata": {
        "id": "yg3egURb55tI"
      },
      "source": [
        "**Performing Random Forest Regression** "
      ]
    },
    {
      "cell_type": "code",
      "metadata": {
        "id": "tTKwqTRnLjAy"
      },
      "source": [
        "from sklearn.ensemble import RandomForestRegressor\n",
        "\n",
        "forest = RandomForestRegressor()"
      ],
      "execution_count": null,
      "outputs": []
    },
    {
      "cell_type": "markdown",
      "metadata": {
        "id": "EVSEqPPZM5lc"
      },
      "source": [
        "**Fitting and Scoring**"
      ]
    },
    {
      "cell_type": "code",
      "metadata": {
        "id": "Njn1F2deM4Y3",
        "outputId": "fcad2460-5be8-42fc-a627-b17669c70ce6",
        "colab": {
          "base_uri": "https://localhost:8080/",
          "height": 34
        }
      },
      "source": [
        "forest.fit(X_train,y_train)\n",
        "\n",
        "forest_testing = forest.score(X_test,y_test)\n",
        "\n",
        "print(f'RandomForestRegressor Testing Score : {forest_testing}')"
      ],
      "execution_count": null,
      "outputs": [
        {
          "output_type": "stream",
          "text": [
            "RandomForestRegressor Testing Score : 0.9420298884881197\n"
          ],
          "name": "stdout"
        }
      ]
    },
    {
      "cell_type": "code",
      "metadata": {
        "id": "-mKS0BX3NCS6",
        "outputId": "3b40f6be-4f1f-4e5a-bb26-80fbc278ab32",
        "colab": {
          "base_uri": "https://localhost:8080/",
          "height": 34
        }
      },
      "source": [
        "forest_training = forest.score(X_train,y_train)\n",
        "\n",
        "print(f'RandomForestRegressor Training Score : {forest_training}')"
      ],
      "execution_count": null,
      "outputs": [
        {
          "output_type": "stream",
          "text": [
            "RandomForestRegressor Training Score : 0.9915195669058396\n"
          ],
          "name": "stdout"
        }
      ]
    },
    {
      "cell_type": "markdown",
      "metadata": {
        "id": "iIosSezsr0wY"
      },
      "source": [
        "**Performing Dicision Tree Regressor**"
      ]
    },
    {
      "cell_type": "code",
      "metadata": {
        "id": "KHEtME13sMHI"
      },
      "source": [
        "from sklearn.tree import DecisionTreeRegressor\n",
        "\n",
        "tree = DecisionTreeRegressor()"
      ],
      "execution_count": null,
      "outputs": []
    },
    {
      "cell_type": "markdown",
      "metadata": {
        "id": "-ppjuGeCt2i6"
      },
      "source": [
        "**Fitting and Scoring**"
      ]
    },
    {
      "cell_type": "code",
      "metadata": {
        "id": "Tee0tUiKsoq_",
        "outputId": "fa49c7f5-cf4c-4766-c300-74f5532e0a20",
        "colab": {
          "base_uri": "https://localhost:8080/",
          "height": 34
        }
      },
      "source": [
        "tree.fit(X_train,y_train)\n",
        "\n",
        "tree_testing = tree.score(X_test,y_test)\n",
        "\n",
        "print(f'DecisionTreeRegressor Testing Score : {tree_testing}')"
      ],
      "execution_count": null,
      "outputs": [
        {
          "output_type": "stream",
          "text": [
            "DecisionTreeRegressor Testing Score : 0.8711300054695686\n"
          ],
          "name": "stdout"
        }
      ]
    },
    {
      "cell_type": "code",
      "metadata": {
        "id": "eDGTuntfsvzD",
        "outputId": "c7b22ae8-a0fd-45f7-e2c4-b24bf34692cd",
        "colab": {
          "base_uri": "https://localhost:8080/",
          "height": 34
        }
      },
      "source": [
        "tree_training = tree.score(X_train,y_train)\n",
        "\n",
        "print(f'DecisionTreeRegressor Testing Score : {tree_training}')"
      ],
      "execution_count": null,
      "outputs": [
        {
          "output_type": "stream",
          "text": [
            "DecisionTreeRegressor Testing Score : 0.9999925603139226\n"
          ],
          "name": "stdout"
        }
      ]
    },
    {
      "cell_type": "markdown",
      "metadata": {
        "id": "g6js-ZUoZmTZ"
      },
      "source": [
        "#**Step 4 : Let's Predict the Total Score**"
      ]
    },
    {
      "cell_type": "markdown",
      "metadata": {
        "id": "eWcrJyBEZ8Yp"
      },
      "source": [
        "**Creating a data frame**<br>\n",
        "Since creating data with so many columns would be difficult,\n",
        "so I have extracted few rows from the original data set."
      ]
    },
    {
      "cell_type": "code",
      "metadata": {
        "id": "c8Vq4K2oj4jP",
        "outputId": "7b274fdc-f5a0-4221-a0b5-7af6989e3c2f",
        "colab": {
          "base_uri": "https://localhost:8080/",
          "height": 102
        }
      },
      "source": [
        "data = X.iloc[[0,150]]\n",
        "print(data.head())"
      ],
      "execution_count": null,
      "outputs": [
        {
          "output_type": "stream",
          "text": [
            "     runs  wickets  overs  ...  bowler_YS Chahal  bowler_Yuvraj Singh  bowler_Z Khan\n",
            "0       1        0    0.1  ...                 0                    0              0\n",
            "150    33        1    4.1  ...                 0                    0              0\n",
            "\n",
            "[2 rows x 805 columns]\n"
          ],
          "name": "stdout"
        }
      ]
    },
    {
      "cell_type": "markdown",
      "metadata": {
        "id": "YGzwXEKjwWP0"
      },
      "source": [
        "**Random Forest Regressor**"
      ]
    },
    {
      "cell_type": "code",
      "metadata": {
        "id": "6VXNeIlGcqXI",
        "outputId": "8d21db8b-54a4-4b1f-9867-2f3e1bac67c9",
        "colab": {
          "base_uri": "https://localhost:8080/",
          "height": 68
        }
      },
      "source": [
        "RFR_Pre = forest.predict(data)\n",
        "\n",
        "print(f'Random Forest Regressor Prediction \\n\\n{RFR_Pre}')"
      ],
      "execution_count": null,
      "outputs": [
        {
          "output_type": "stream",
          "text": [
            "Random Forest Regressor Prediction \n",
            "\n",
            "[196.85 248.1 ]\n"
          ],
          "name": "stdout"
        }
      ]
    },
    {
      "cell_type": "markdown",
      "metadata": {
        "id": "-Ce9YLI1wbps"
      },
      "source": [
        "**Decision Tree Regressor**"
      ]
    },
    {
      "cell_type": "code",
      "metadata": {
        "id": "kbbBgFxDmRuq",
        "outputId": "2b51ac6f-5298-4a89-8dcd-b84d2ed8a2fe",
        "colab": {
          "base_uri": "https://localhost:8080/",
          "height": 68
        }
      },
      "source": [
        "DTR_Pre = tree.predict(data)\n",
        "\n",
        "print(f'Decision Tree Regressor Prediction \\n\\n{DTR_Pre}')"
      ],
      "execution_count": null,
      "outputs": [
        {
          "output_type": "stream",
          "text": [
            "Decision Tree Regressor Prediction \n",
            "\n",
            "[197. 246.]\n"
          ],
          "name": "stdout"
        }
      ]
    },
    {
      "cell_type": "markdown",
      "metadata": {
        "id": "4yg0j-gbwhfq"
      },
      "source": [
        "**Original Total Score**"
      ]
    },
    {
      "cell_type": "code",
      "metadata": {
        "id": "P-Ls2vu9tKWi",
        "outputId": "76050e81-de50-4191-d9e9-a3cf15700c0f",
        "colab": {
          "base_uri": "https://localhost:8080/",
          "height": 102
        }
      },
      "source": [
        "Original_Score = y.iloc[[0,150]]\n",
        "\n",
        "print(f'Original Total Score \\n\\n{Original_Score}')"
      ],
      "execution_count": null,
      "outputs": [
        {
          "output_type": "stream",
          "text": [
            "Original Total Score \n",
            "\n",
            "0      222\n",
            "150    240\n",
            "Name: total, dtype: int64\n"
          ],
          "name": "stdout"
        }
      ]
    }
  ]
}